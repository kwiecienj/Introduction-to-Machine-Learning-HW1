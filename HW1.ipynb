{
 "cells": [
  {
   "cell_type": "markdown",
   "id": "003e5d40",
   "metadata": {},
   "source": [
    "# Wczytanie danych i odpowiednich pakietów"
   ]
  },
  {
   "cell_type": "code",
   "execution_count": 1,
   "id": "914e70b5",
   "metadata": {},
   "outputs": [],
   "source": [
    "import numpy as np\n",
    "import pandas as pd\n",
    "import matplotlib.pyplot as plt\n",
    "from sklearn import tree\n",
    "from sklearn.metrics import confusion_matrix\n",
    "from sklearn.metrics import accuracy_score, recall_score, precision_score, f1_score\n",
    "from sklearn.metrics import RocCurveDisplay\n",
    "from sklearn.metrics import roc_auc_score\n",
    "from sklearn.model_selection import train_test_split\n",
    "from sklearn.model_selection import cross_val_score\n",
    "from sklearn.metrics import roc_curve, roc_auc_score, auc"
   ]
  },
  {
   "cell_type": "code",
   "execution_count": 2,
   "id": "7aece298",
   "metadata": {},
   "outputs": [],
   "source": [
    "X = pd.read_csv('X.csv')"
   ]
  },
  {
   "cell_type": "code",
   "execution_count": 3,
   "id": "c153ab65",
   "metadata": {},
   "outputs": [],
   "source": [
    "y = pd.read_csv('y.csv')"
   ]
  },
  {
   "cell_type": "code",
   "execution_count": 4,
   "id": "7917ef4c",
   "metadata": {},
   "outputs": [],
   "source": [
    "X_train, X_test, y_train, y_test = train_test_split(X, y, test_size = 0.3)\n",
    "# numer indeksu: 320565"
   ]
  },
  {
   "cell_type": "markdown",
   "id": "88cfbbf6",
   "metadata": {},
   "source": [
    "# Pierwsza pętla dla \"gini\""
   ]
  },
  {
   "cell_type": "code",
   "execution_count": 5,
   "id": "276679e7",
   "metadata": {},
   "outputs": [
    {
     "data": {
      "text/plain": [
       "array([[0.63264003, 0.63264003, 0.63264003],\n",
       "       [0.68491844, 0.68491844, 0.68503201],\n",
       "       [0.72926644, 0.7287021 , 0.72916445],\n",
       "       [0.7707156 , 0.77117203, 0.76934263],\n",
       "       [0.80837825, 0.80652518, 0.80351837],\n",
       "       [0.83751396, 0.83245026, 0.8265071 ],\n",
       "       [0.85795675, 0.84798429, 0.83971407],\n",
       "       [0.86492374, 0.85439234, 0.84356563],\n",
       "       [0.87242282, 0.8572142 , 0.84521024],\n",
       "       [0.87405538, 0.85832926, 0.84554743]])"
      ]
     },
     "execution_count": 5,
     "metadata": {},
     "output_type": "execute_result"
    }
   ],
   "source": [
    "scores_all_gini = []\n",
    "scores_help_gini = []\n",
    "\n",
    "for i in range(1, 11):\n",
    "    for j in range(50, 151, 50):\n",
    "        Tree_ij = tree.DecisionTreeClassifier(max_depth = i, criterion = \"gini\", min_samples_leaf = j, random_state = 320565)\n",
    "        scores = cross_val_score(Tree_ij, X_train, y_train, cv = 5, scoring = 'roc_auc')\n",
    "        scores = np.mean(scores)\n",
    "        scores_help_gini.append(scores)\n",
    "    scores_all_gini.append(scores_help_gini)\n",
    "    scores_help_gini = []\n",
    "np.asarray(scores_all_gini) # macierz ze wszystkimi kombinacjami max_depth oraz min_samples_leaf"
   ]
  },
  {
   "cell_type": "code",
   "execution_count": 6,
   "id": "9af02dff",
   "metadata": {},
   "outputs": [
    {
     "data": {
      "text/plain": [
       "0.8740553816488278"
      ]
     },
     "execution_count": 6,
     "metadata": {},
     "output_type": "execute_result"
    }
   ],
   "source": [
    "np.max(scores_all_gini)"
   ]
  },
  {
   "cell_type": "code",
   "execution_count": 7,
   "id": "d2f48f99",
   "metadata": {
    "scrolled": true
   },
   "outputs": [
    {
     "data": {
      "text/plain": [
       "(9, 0)"
      ]
     },
     "execution_count": 7,
     "metadata": {},
     "output_type": "execute_result"
    }
   ],
   "source": [
    "np.unravel_index(np.argmax(scores_all_gini), np.shape(scores_all_gini))"
   ]
  },
  {
   "cell_type": "markdown",
   "id": "b20289f2",
   "metadata": {},
   "source": [
    "# Druga pętla dla \"gini\""
   ]
  },
  {
   "cell_type": "code",
   "execution_count": 8,
   "id": "9e4f0b8e",
   "metadata": {},
   "outputs": [],
   "source": [
    "scores_all_gini_2 = []\n",
    "\n",
    "for i in range(1, 20):\n",
    "        Tree_ij = tree.DecisionTreeClassifier(max_depth = 10, criterion = \"gini\", min_samples_leaf = 50, random_state = 320565, max_features = i)\n",
    "        scores = cross_val_score(Tree_ij, X_train, y_train, cv = 5, scoring = 'roc_auc')\n",
    "        scores = np.mean(scores)\n",
    "        scores_all_gini_2.append(scores)"
   ]
  },
  {
   "cell_type": "code",
   "execution_count": 9,
   "id": "84769ab2",
   "metadata": {},
   "outputs": [
    {
     "data": {
      "text/plain": [
       "0.8755300333312832"
      ]
     },
     "execution_count": 9,
     "metadata": {},
     "output_type": "execute_result"
    }
   ],
   "source": [
    "np.max(scores_all_gini_2)"
   ]
  },
  {
   "cell_type": "code",
   "execution_count": 10,
   "id": "84dbfeff",
   "metadata": {},
   "outputs": [
    {
     "data": {
      "text/plain": [
       "18"
      ]
     },
     "execution_count": 10,
     "metadata": {},
     "output_type": "execute_result"
    }
   ],
   "source": [
    "np.argmax(scores_all_gini_2)"
   ]
  },
  {
   "cell_type": "markdown",
   "id": "0dc15196",
   "metadata": {},
   "source": [
    "# Pierwsza pętla dla \"entropy\""
   ]
  },
  {
   "cell_type": "code",
   "execution_count": 11,
   "id": "5e881a73",
   "metadata": {},
   "outputs": [
    {
     "data": {
      "text/plain": [
       "array([[0.63050588, 0.63050588, 0.63050588],\n",
       "       [0.6836468 , 0.6836468 , 0.68376042],\n",
       "       [0.7259806 , 0.72536825, 0.72563642],\n",
       "       [0.77603227, 0.77474058, 0.77329955],\n",
       "       [0.81347854, 0.81089858, 0.80708539],\n",
       "       [0.83948209, 0.83396664, 0.82977039],\n",
       "       [0.85951186, 0.84718321, 0.83938402],\n",
       "       [0.86795881, 0.85429734, 0.84374156],\n",
       "       [0.87871842, 0.8589587 , 0.84643734],\n",
       "       [0.88102915, 0.85994988, 0.84663653]])"
      ]
     },
     "execution_count": 11,
     "metadata": {},
     "output_type": "execute_result"
    }
   ],
   "source": [
    "scores_all_entropy = []\n",
    "scores_help_entropy = []\n",
    "\n",
    "for i in range(1, 11):\n",
    "    for j in range(50, 151, 50):\n",
    "        Tree_ij = tree.DecisionTreeClassifier(max_depth = i, criterion = \"entropy\", min_samples_leaf = j, random_state = 320565)\n",
    "        scores = cross_val_score(Tree_ij, X_train, y_train, cv = 5, scoring = 'roc_auc')\n",
    "        scores = np.mean(scores)\n",
    "        scores_help_entropy.append(scores)\n",
    "    scores_all_entropy.append(scores_help_entropy)\n",
    "    scores_help_entropy = []\n",
    "np.asarray(scores_all_entropy) # macierz ze wszystkimi kombinacjami max_depth oraz min_samples_leaf"
   ]
  },
  {
   "cell_type": "code",
   "execution_count": 12,
   "id": "d8aa32a2",
   "metadata": {},
   "outputs": [
    {
     "data": {
      "text/plain": [
       "0.8810291529926146"
      ]
     },
     "execution_count": 12,
     "metadata": {},
     "output_type": "execute_result"
    }
   ],
   "source": [
    "np.max(scores_all_entropy)"
   ]
  },
  {
   "cell_type": "code",
   "execution_count": 13,
   "id": "40c0fe5d",
   "metadata": {},
   "outputs": [
    {
     "data": {
      "text/plain": [
       "(9, 0)"
      ]
     },
     "execution_count": 13,
     "metadata": {},
     "output_type": "execute_result"
    }
   ],
   "source": [
    "np.unravel_index(np.argmax(scores_all_entropy), np.shape(scores_all_entropy))"
   ]
  },
  {
   "cell_type": "markdown",
   "id": "0a081c3c",
   "metadata": {},
   "source": [
    "# Druga pętla dla \"entropy\""
   ]
  },
  {
   "cell_type": "code",
   "execution_count": 14,
   "id": "b3e4fd49",
   "metadata": {},
   "outputs": [],
   "source": [
    "scores_all_entropy_2 = []\n",
    "\n",
    "for i in range(1, 20):\n",
    "        Tree_ij = tree.DecisionTreeClassifier(max_depth = 10, criterion = \"entropy\", min_samples_leaf = 50, random_state = 320565, max_features = i)\n",
    "        scores = cross_val_score(Tree_ij, X_train, y_train, cv = 5, scoring = 'roc_auc')\n",
    "        scores = np.mean(scores)\n",
    "        scores_all_entropy_2.append(scores)"
   ]
  },
  {
   "cell_type": "code",
   "execution_count": 15,
   "id": "0bb2a00e",
   "metadata": {},
   "outputs": [
    {
     "data": {
      "text/plain": [
       "0.8824244567096807"
      ]
     },
     "execution_count": 15,
     "metadata": {},
     "output_type": "execute_result"
    }
   ],
   "source": [
    "np.max(scores_all_entropy_2)"
   ]
  },
  {
   "cell_type": "code",
   "execution_count": 16,
   "id": "bc0c0a1e",
   "metadata": {},
   "outputs": [
    {
     "data": {
      "text/plain": [
       "15"
      ]
     },
     "execution_count": 16,
     "metadata": {},
     "output_type": "execute_result"
    }
   ],
   "source": [
    "np.argmax(scores_all_entropy_2)\n"
   ]
  },
  {
   "cell_type": "markdown",
   "id": "340f9f86",
   "metadata": {},
   "source": [
    "Wybieram: \"entropy\", max_depth = 10, min_samples_leaf = 50, max_features = 16"
   ]
  },
  {
   "cell_type": "code",
   "execution_count": 18,
   "id": "b0f49afe",
   "metadata": {},
   "outputs": [],
   "source": [
    "Tree = tree.DecisionTreeClassifier(max_depth = 10, criterion = \"entropy\", min_samples_leaf = 50, random_state = 320565, max_features = 16)\n",
    "Tree = Tree.fit(X_train, y_train)"
   ]
  },
  {
   "cell_type": "code",
   "execution_count": 19,
   "id": "5ebe4d12",
   "metadata": {},
   "outputs": [],
   "source": [
    "y_pred_test = Tree.predict(X_test)"
   ]
  },
  {
   "cell_type": "code",
   "execution_count": 20,
   "id": "18be840e",
   "metadata": {},
   "outputs": [
    {
     "data": {
      "text/plain": [
       "array([[2450,  554],\n",
       "       [ 695, 2301]], dtype=int64)"
      ]
     },
     "execution_count": 20,
     "metadata": {},
     "output_type": "execute_result"
    }
   ],
   "source": [
    "confusion_matrix(y_test, y_pred_test)"
   ]
  },
  {
   "cell_type": "code",
   "execution_count": 21,
   "id": "0f074e93",
   "metadata": {},
   "outputs": [
    {
     "data": {
      "text/plain": [
       "0.7918333333333333"
      ]
     },
     "execution_count": 21,
     "metadata": {},
     "output_type": "execute_result"
    }
   ],
   "source": [
    "accuracy = accuracy_score(y_test, y_pred_test)\n",
    "accuracy"
   ]
  },
  {
   "cell_type": "code",
   "execution_count": 22,
   "id": "903d3eef",
   "metadata": {},
   "outputs": [
    {
     "data": {
      "text/plain": [
       "0.7680240320427236"
      ]
     },
     "execution_count": 22,
     "metadata": {},
     "output_type": "execute_result"
    }
   ],
   "source": [
    "recall = recall_score(y_test, y_pred_test)\n",
    "recall"
   ]
  },
  {
   "cell_type": "code",
   "execution_count": 23,
   "id": "9fa173e9",
   "metadata": {},
   "outputs": [
    {
     "data": {
      "text/plain": [
       "0.805954465849387"
      ]
     },
     "execution_count": 23,
     "metadata": {},
     "output_type": "execute_result"
    }
   ],
   "source": [
    "precision = precision_score(y_test, y_pred_test)\n",
    "precision"
   ]
  },
  {
   "cell_type": "code",
   "execution_count": 44,
   "id": "2a67935c",
   "metadata": {},
   "outputs": [
    {
     "data": {
      "text/plain": [
       "<matplotlib.legend.Legend at 0x1ab1c1df2e0>"
      ]
     },
     "execution_count": 44,
     "metadata": {},
     "output_type": "execute_result"
    },
    {
     "data": {
      "image/png": "[encoded data removed]",
      "text/plain": [
       "<Figure size 432x288 with 1 Axes>"
      ]
     },
     "metadata": {
      "needs_background": "light"
     },
     "output_type": "display_data"
    }
   ],
   "source": [
    "fpr, tpr, thresholds = roc_curve(y_test, y_pred_test)\n",
    "plt.plot(fpr, tpr, label=\"Tree, AUC=\" + str(round(roc_auc_score(y_test, y_pred_test), 4)))\n",
    "plt.legend()"
   ]
  },
  {
   "cell_type": "code",
   "execution_count": 45,
   "id": "3baaab1a",
   "metadata": {},
   "outputs": [
    {
     "data": {
      "text/plain": [
       "0.7918016298695641"
      ]
     },
     "execution_count": 45,
     "metadata": {},
     "output_type": "execute_result"
    }
   ],
   "source": [
    "roc_auc_score(y_test, y_pred_test)"
   ]
  }
 ],
 "metadata": {
  "kernelspec": {
   "display_name": "Python 3 (ipykernel)",
   "language": "python",
   "name": "python3"
  },
  "language_info": {
   "codemirror_mode": {
    "name": "ipython",
    "version": 3
   },
   "file_extension": ".py",
   "mimetype": "text/x-python",
   "name": "python",
   "nbconvert_exporter": "python",
   "pygments_lexer": "ipython3",
   "version": "3.9.12"
  }
 },
 "nbformat": 4,
 "nbformat_minor": 5
}
